{
 "cells": [
  {
   "cell_type": "markdown",
   "id": "df84b8a7",
   "metadata": {},
   "source": [
    "# How to guide"
   ]
  },
  {
   "cell_type": "markdown",
   "id": "a9d51899",
   "metadata": {},
   "source": [
    "To get started you will need to have concepCy installed along with a pre-trained spaCy model. \n",
    "\n",
    "To do so, run the following:\n",
    "\n",
    "```\n",
    "pip3 install concepcy\n",
    "python3 -m spacy download en_core_web_sm\n",
    "```\n",
    "Now that we are all set, let's get down to the nitty-gritty!"
   ]
  },
  {
   "cell_type": "markdown",
   "id": "e994c8d1",
   "metadata": {},
   "source": [
    "## Basic usage"
   ]
  },
  {
   "cell_type": "markdown",
   "id": "e724101a",
   "metadata": {},
   "source": [
    "In this first example we will use SpaCy's `en_core_web_sm` model and the default configuration of the `concepcy` extension."
   ]
  },
  {
   "cell_type": "code",
   "execution_count": 1,
   "id": "2cf7f232",
   "metadata": {},
   "outputs": [],
   "source": [
    "import spacy\n",
    "import concepcy"
   ]
  },
  {
   "cell_type": "code",
   "execution_count": 2,
   "id": "91c37a25",
   "metadata": {},
   "outputs": [],
   "source": [
    "nlp = spacy.load(\"en_core_web_sm\")\n",
    "\n",
    "# let us add the concepCy pipe to the current pipeline\n",
    "nlp.add_pipe(\"concepcy\");"
   ]
  },
  {
   "cell_type": "markdown",
   "id": "cebd23f6",
   "metadata": {},
   "source": [
    "Let us check that the `ConcepCyComponent` has successfully been added to our pipeline"
   ]
  },
  {
   "cell_type": "code",
   "execution_count": 3,
   "id": "8a458186",
   "metadata": {},
   "outputs": [
    {
     "name": "stdout",
     "output_type": "stream",
     "text": [
      "['tok2vec', 'tagger', 'parser', 'attribute_ruler', 'lemmatizer', 'ner', 'concepcy']\n"
     ]
    }
   ],
   "source": [
    "print(nlp.pipe_names)"
   ]
  },
  {
   "cell_type": "markdown",
   "id": "80b963b9",
   "metadata": {},
   "source": [
    "Success! Now we are ready to enrich our documents with semantical information!"
   ]
  },
  {
   "cell_type": "code",
   "execution_count": 4,
   "id": "aada8f1d",
   "metadata": {},
   "outputs": [],
   "source": [
    "doc = nlp(\"Joe Manchin announces surprise deal on climate, health care and tax package\")"
   ]
  },
  {
   "cell_type": "markdown",
   "id": "8be1b374",
   "metadata": {},
   "source": [
    "Let us explore the relatively general relation `RelatedTo` contained in the whole document."
   ]
  },
  {
   "cell_type": "code",
   "execution_count": 5,
   "id": "487366b6",
   "metadata": {},
   "outputs": [
    {
     "name": "stdout",
     "output_type": "stream",
     "text": [
      "\n",
      "----------------------------\n",
      "Word: 'surprise'\n",
      "[[surprise]] is related to [[shock]]\n",
      "[[surprise]] is related to [[party]]\n",
      "[[surprise]] is related to [[unexpected]]\n",
      "[[shock]] is related to [[surprise]]\n",
      "[[surprise]] is related to [[birthday]]\n",
      "[[surprise]] is related to [[birthday party]]\n",
      "[[party]] is related to [[surprise]]\n",
      "[[surprise]] is related to [[emotion]]\n",
      "\n",
      "----------------------------\n",
      "Word: 'deal'\n",
      "[[deal]] is related to [[cards]]\n",
      "[[deal]] is related to [[agreement]]\n",
      "[[deal]] is related to [[bargain]]\n",
      "[[offer]] is related to [[deal]]\n",
      "[[deal]] is related to [[transaction]]\n",
      "\n",
      "----------------------------\n",
      "Word: 'climate'\n",
      "[[weather]] is related to [[climate]]\n",
      "\n",
      "----------------------------\n",
      "Word: 'health'\n",
      "[[health]] is related to [[being]]\n",
      "[[health]] is related to [[well]]\n",
      "None\n",
      "\n",
      "----------------------------\n",
      "Word: 'care'\n",
      "[[care]] is related to [[love]]\n",
      "[[care]] is related to [[loving]]\n",
      "[[care]] is related to [[concern]]\n",
      "[[care]] is related to [[after]]\n",
      "[[care]] is related to [[tend]]\n",
      "[[care]] is related to [[tender]]\n",
      "None\n",
      "\n",
      "----------------------------\n",
      "Word: 'tax'\n",
      "[[tax]] is related to [[government]]\n",
      "[[tax]] is related to [[money]]\n",
      "[[tax]] is related to [[payment]]\n",
      "[[tax]] is related to [[income]]\n",
      "[[tax]] is related to [[fee]]\n",
      "[[tax]] is related to [[irs]]\n",
      "[[tax]] is related to [[april]]\n",
      "[[tax]] is related to [[revenue]]\n",
      "[[tax]] is related to [[levy]]\n",
      "[[tax]] is related to [[charge]]\n",
      "[[tax]] is related to [[government money]]\n",
      "[[tax]] is related to [[pay]]\n",
      "[[tax]] is related to [[government payment]]\n",
      "[[tax]] is related to [[government fee]]\n",
      "\n",
      "----------------------------\n",
      "Word: 'package'\n",
      "[[parcel]] is related to [[package]]\n"
     ]
    }
   ],
   "source": [
    "for word, relations in doc._.relatedto.items():\n",
    "    print(\"\\n----------------------------\")\n",
    "    print(f\"Word: '{word}'\")\n",
    "    for rel in relations:\n",
    "        print(rel[\"text\"])"
   ]
  },
  {
   "cell_type": "markdown",
   "id": "9b2d14d9",
   "metadata": {},
   "source": [
    "<hr>\n",
    "We are able to retrieve the most relevant list of relations to the words present in our text.\n",
    "\n",
    "One can notice that some words are missing. Indeed, some words might not be related to any other node from the `ConceptNet` base. Also, to diminish noise we have filtered out stop words, punctuation and named entities from being enriched with semantical information."
   ]
  },
  {
   "cell_type": "markdown",
   "id": "28330371",
   "metadata": {},
   "source": [
    "## Custom configuration"
   ]
  },
  {
   "cell_type": "markdown",
   "id": "b8b9c6dd",
   "metadata": {},
   "source": [
    "The `ConcepcyComponent` allows you to only select the relations (see available relations [here](https://github.com/commonsense/conceptnet5/wiki/Relations)) you are interested in as well as filter out edges that are not trustworthy.\n",
    "\n",
    "Let's assume we interested in the retrieving causal relations and that we consider trustworthy edges with a weight greater than 0.0"
   ]
  },
  {
   "cell_type": "code",
   "execution_count": 6,
   "id": "fbd2c7dc",
   "metadata": {},
   "outputs": [],
   "source": [
    "import spacy\n",
    "import concepcy\n",
    "\n",
    "nlp = spacy.load(\"en_core_web_sm\")\n",
    "nlp.add_pipe(\n",
    "    \"concepcy\",\n",
    "    config={\n",
    "        \"relations_of_interest\": [\"Causes\"],\n",
    "        \"filter_missing_text\": True,\n",
    "        \"filter_edge_weight\": 1,\n",
    "    }\n",
    ");"
   ]
  },
  {
   "cell_type": "markdown",
   "id": "7ebfd3dd",
   "metadata": {},
   "source": [
    "Let us reuse the same document and access the semantical information at a word level."
   ]
  },
  {
   "cell_type": "code",
   "execution_count": 7,
   "id": "c4a3ba57",
   "metadata": {},
   "outputs": [],
   "source": [
    "doc = nlp(\"Joe Manchin announces surprise deal on climate, health care and tax package\")"
   ]
  },
  {
   "cell_type": "code",
   "execution_count": 8,
   "id": "9fd7a138",
   "metadata": {},
   "outputs": [
    {
     "name": "stdout",
     "output_type": "stream",
     "text": [
      "\n",
      "----------------------------\n",
      "Word: 'Joe'\n",
      "\n",
      "----------------------------\n",
      "Word: 'Manchin'\n",
      "\n",
      "----------------------------\n",
      "Word: 'announces'\n",
      "\n",
      "----------------------------\n",
      "Word: 'surprise'\n",
      "The effect of [[opening a gift]] is [[surprise]].\n",
      "Sometimes [[seeing something new]] causes [[is surprise]]\n",
      "\n",
      "----------------------------\n",
      "Word: 'deal'\n",
      "\n",
      "----------------------------\n",
      "Word: 'on'\n",
      "\n",
      "----------------------------\n",
      "Word: 'climate'\n",
      "\n",
      "----------------------------\n",
      "Word: ','\n",
      "\n",
      "----------------------------\n",
      "Word: 'health'\n",
      "Something that might happen as a consequence of [[eating vegetables]] is [[health]]\n",
      "The effect of [[cleaning]] is [[health]]\n",
      "\n",
      "----------------------------\n",
      "Word: 'care'\n",
      "\n",
      "----------------------------\n",
      "Word: 'and'\n",
      "\n",
      "----------------------------\n",
      "Word: 'tax'\n",
      "\n",
      "----------------------------\n",
      "Word: 'package'\n"
     ]
    }
   ],
   "source": [
    "for word in doc:\n",
    "    print(\"\\n----------------------------\")\n",
    "    print(f\"Word: '{word}'\")\n",
    "    for rel in word._.causes:\n",
    "        print(rel[\"text\"])"
   ]
  },
  {
   "cell_type": "markdown",
   "id": "b7ca5d87",
   "metadata": {},
   "source": [
    "<hr>\n",
    "And that's a wrap!\n",
    "\n",
    "If you have any ideas on how to improve the user experience or any other features that would be nice to have, feel free to open issue."
   ]
  }
 ],
 "metadata": {
  "kernelspec": {
   "display_name": "concepcy",
   "language": "python",
   "name": "concepcy"
  },
  "language_info": {
   "codemirror_mode": {
    "name": "ipython",
    "version": 3
   },
   "file_extension": ".py",
   "mimetype": "text/x-python",
   "name": "python",
   "nbconvert_exporter": "python",
   "pygments_lexer": "ipython3",
   "version": "3.9.10"
  }
 },
 "nbformat": 4,
 "nbformat_minor": 5
}
